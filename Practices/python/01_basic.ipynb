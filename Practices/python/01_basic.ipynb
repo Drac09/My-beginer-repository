{
 "cells": [
  {
   "metadata": {},
   "cell_type": "markdown",
   "source": [
    "## Conocimientos básicos de Python\n",
    "\n"
   ],
   "id": "fb469a517e0abd3"
  },
  {
   "metadata": {},
   "cell_type": "markdown",
   "source": "### 01 - print()",
   "id": "44eee7a45f31893e"
  },
  {
   "metadata": {},
   "cell_type": "markdown",
   "source": "El módulo print nos permite imprimir en consola",
   "id": "b0d15506fad2bdbc"
  },
  {
   "metadata": {},
   "cell_type": "code",
   "source": "print(\"Hola Python\")",
   "id": "c4a2c15d81f8b8c2",
   "outputs": [],
   "execution_count": null
  },
  {
   "metadata": {},
   "cell_type": "markdown",
   "source": "### 02- Tipos en Python",
   "id": "497a2dd922007215"
  },
  {
   "metadata": {},
   "cell_type": "markdown",
   "source": [
    "En Python existen varios tipos de datos como:\n",
    "- int\n",
    "- float\n",
    "- complex\n",
    "- str\n",
    "- bool\n",
    "\n",
    "Entre otros.\n",
    "\n",
    "El módulo type() sirve para saber qué tipo de dato es cada cosa"
   ],
   "id": "976635de4cf03bb9"
  },
  {
   "metadata": {},
   "cell_type": "code",
   "source": [
    "print(type(5))\n",
    "print(type(5.56))\n",
    "print(type(1e3))\n",
    "print(type(1 + 2j))\n",
    "print(type(True))\n",
    "print(type(\"Hola\"))\n",
    "print(type(\"\"\"\n",
    "   Multilinea\n",
    "\"\"\"))\n",
    "print(type(True))\n",
    "print(type(1 < 2))\n",
    "print(type(None))"
   ],
   "id": "89ac6e01bcb02481",
   "outputs": [],
   "execution_count": null
  },
  {
   "metadata": {},
   "cell_type": "markdown",
   "source": "### 03 - Casting de tipos",
   "id": "75d4294128d622a2"
  },
  {
   "metadata": {},
   "cell_type": "markdown",
   "source": "Transformar un tipo de un valor a otro",
   "id": "fce704d64923263a"
  },
  {
   "metadata": {},
   "cell_type": "code",
   "outputs": [],
   "execution_count": null,
   "source": [
    "print(2 + int(\"100\"))\n",
    "print(\"100\" + str(2)) # 1002\n",
    "print(int(\"Hola mundo\"))\n",
    "print(round(2.51))"
   ],
   "id": "4f5ab9ab9409265e"
  },
  {
   "metadata": {},
   "cell_type": "markdown",
   "source": "### 04 - Variables",
   "id": "5dcd86bde31c19fc"
  },
  {
   "metadata": {},
   "cell_type": "markdown",
   "source": "Las variables sirven para guardar datos en memoria. Python es un lenguaje de tipado dinamico y de tipado fuerte",
   "id": "dc982db339dfedcd"
  },
  {
   "metadata": {},
   "cell_type": "code",
   "outputs": [],
   "execution_count": null,
   "source": [
    "# Asignar una variable, solo hace falta poner esto\n",
    "my_name = \"<NAME>\"\n",
    "print(my_name)"
   ],
   "id": "a201d9e10340e690"
  },
  {
   "metadata": {},
   "cell_type": "code",
   "outputs": [],
   "execution_count": null,
   "source": [
    "# f-string (literal de cadena de formato)\n",
    "# desde la versión Python 3.6\n",
    "print(f\"Hola {my_name}, tengo {age + 5} años\")"
   ],
   "id": "3b5052b1b8fd8950"
  },
  {
   "metadata": {},
   "cell_type": "code",
   "outputs": [],
   "execution_count": null,
   "source": [
    "# Convenciones de nombres de variables\n",
    "mi_nombre_de_variable = \"ok\" # snake_case\n",
    "nombre = \"ok\"\n",
    "\n",
    "miNombreDeVariable = \"no-recomendado\" # camelCase\n",
    "MiNombreDeVariable = \"no-recomendado\" # PascalCase\n",
    "minombredevariable = \"no-recomendado\" # todojunto"
   ],
   "id": "8a9f1e1f9b1ed0a9"
  },
  {
   "metadata": {},
   "cell_type": "code",
   "outputs": [],
   "execution_count": null,
   "source": [
    "# Para indicar el tipo de dato de la variable\n",
    "is_user_logged_in: bool = True\n",
    "print(is_user_logged_in)\n",
    "\n",
    "name: str = \"midudev\""
   ],
   "id": "38eef49eaca6b79c"
  },
  {
   "metadata": {},
   "cell_type": "markdown",
   "source": "### 05 - Entrada de usuario (input()) - Versión simplificada",
   "id": "9fc8bd47132ddac6"
  },
  {
   "metadata": {},
   "cell_type": "markdown",
   "source": "La función input() permite obtener datos del usuario a través de la consola",
   "id": "2b7e341065a91171"
  },
  {
   "metadata": {},
   "cell_type": "code",
   "outputs": [],
   "execution_count": null,
   "source": [
    "nombre2 = input(\"Hola, como te llamas?\\n\")\n",
    "print(f\"Hola {nombre2}. encantado de conocerte\")\n",
    "\n",
    "# El input siempre es de tipo str\n",
    "age = int(input(\"Cuantos años tienes: \\n\"))\n",
    "print(f\"Tienes {age} años\")\n",
    "\n",
    "print(\"Obtener múltiples valores a la vez\")\n",
    "country, city = input(\"¿En qué país y ciudad vives?\\n\").split()\n",
    "\n",
    "print(f\"Vives en {country}, {city}\")"
   ],
   "id": "915bae564818ea2b"
  }
 ],
 "metadata": {
  "kernelspec": {
   "display_name": "Python 3",
   "language": "python",
   "name": "python3"
  },
  "language_info": {
   "codemirror_mode": {
    "name": "ipython",
    "version": 2
   },
   "file_extension": ".py",
   "mimetype": "text/x-python",
   "name": "python",
   "nbconvert_exporter": "python",
   "pygments_lexer": "ipython2",
   "version": "2.7.6"
  }
 },
 "nbformat": 4,
 "nbformat_minor": 5
}
